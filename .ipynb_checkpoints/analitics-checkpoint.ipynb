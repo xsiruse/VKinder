{
 "cells": [
  {
   "cell_type": "code",
   "execution_count": 1,
   "metadata": {
    "pycharm": {
     "is_executing": true
    }
   },
   "outputs": [],
   "source": [
    "from datetime import datetime, date\n",
    "from pprint import pprint\n",
    "from main import slices\n",
    "\n",
    "import vk_api\n",
    "import pandas as pd\n"
   ]
  },
  {
   "cell_type": "code",
   "execution_count": 6,
   "metadata": {},
   "outputs": [],
   "source": [
    "fields = ['about', 'activities', 'bdate', 'blacklisted', 'blacklisted_by_me', 'books', 'career', 'city', 'common_count',\n",
    "          'connections', 'counters', 'country', 'education', 'followers_count', 'friend_status', 'games', 'home_town',\n",
    "          'interests', 'is_favorite', 'lists', 'movies', 'music', 'occupation', 'personal', 'photo_200_orig', 'quotes',\n",
    "          'relation', 'schools', 'sex', 'timezone', 'tv', 'universities']\n",
    "fi = ','.join(fields)\n",
    "\n",
    "# search_list = slices(1000, 10)"
   ]
  },
  {
   "cell_type": "code",
   "execution_count": null,
   "metadata": {},
   "outputs": [],
   "source": [
    "def auth():\n",
    "    login = input('Введите номер телефона или логин: ')\n",
    "    password = input('Введите пароль: ')\n",
    "    return login, password\n",
    "\n",
    "login, password = auth()\n",
    "\n",
    "def vk(login, password):\n",
    "    vk_session = vk_api.VkApi(login, password)\n",
    "   \n",
    "    try:\n",
    "        vk_session.auth(token_only=True)\n",
    "        return vk_session\n",
    "\n",
    "    except vk_api.AuthError as error_msg:\n",
    "        print(error_msg)\n",
    "        return\n",
    "    \n",
    "session = vk(login, password)\n",
    "opse = session.get_api()\n",
    "    "
   ]
  },
  {
   "cell_type": "code",
   "execution_count": 19,
   "metadata": {},
   "outputs": [
    {
     "name": "stdout",
     "output_type": "stream",
     "text": [
      "1\n"
     ]
    }
   ],
   "source": [
    "class User:\n",
    "\n",
    "    def __init__(self, id):\n",
    "        interests = opse.users.get(user_ids=id, fields='%s' % fi)[0]\n",
    "        self.b_date = datetime.strptime(interests['bdate'], '%d.%m.%Y')\n",
    "        self.age = date.today().year - self.b_date.year - ((date.today().month, date.today().day) <\n",
    "                                                           (self.b_date.month, self.b_date.day))\n",
    "        self.gender = interests['sex']\n",
    "        self.relation = interests['relation']\n",
    "        self.groups = opse.groups.get()\n",
    "        self.friends = opse.friends.get()\n",
    "        self.interests = {}\n",
    "        self.country = interests['country']\n",
    "        self.city = interests['city']\n",
    "        \n",
    "me = User(opse.users.get()[0]['id'])\n",
    "print(me.city['id'])"
   ]
  },
  {
   "cell_type": "code",
   "execution_count": 25,
   "metadata": {},
   "outputs": [],
   "source": [
    "with vk_api.VkRequestsPool(session) as pool:\n",
    "    user_search = pool.method('users.search', {'count': 1000, 'city': me.city['id']})\n",
    "    user_get = pool.method('users.get')\n",
    "#     for user in search_list:\n",
    "#         user_get = pool.method('users.get', {'user_ids': user,\n",
    "#                                                   'fields': fi,\n",
    "#                                                   'name_case': 'nom'})\n",
    "    "
   ]
  },
  {
   "cell_type": "code",
   "execution_count": 28,
   "metadata": {},
   "outputs": [
    {
     "name": "stdout",
     "output_type": "stream",
     "text": [
      "            id first_name  last_name  is_closed  can_access_closed  \\\n",
      "0     53636214       Иван    Рудской      False               True   \n",
      "1     53083705    Дмитрий   Медведев      False               True   \n",
      "2    135336811      Павел       Воля      False               True   \n",
      "3      5592362       Катя       Клэп      False               True   \n",
      "4    169902419       Саша   Спилберг      False               True   \n",
      "..         ...        ...        ...        ...                ...   \n",
      "973  222121420       Duna       Duna      False               True   \n",
      "974  437048924      Антон      Нгуен      False               True   \n",
      "975    9456495     Гулька    Гулиева      False               True   \n",
      "976   45379916   Кристина  Савельева      False               True   \n",
      "977  462334462    Марьяна    Рожкова      False               True   \n",
      "\n",
      "                                            track_code  \n",
      "0    f4181204plNxhtc84d2H2Il71kPX4SKbmZqQUQPSuKq5SU...  \n",
      "1    a193c863fLOQWHVAQN2-hLOlKxiDKtnJwq-tPXbYQZ1-2H...  \n",
      "2    db7f0ae4Y2Nb4HgvGNK-J3XbRsq5IbGRTmXJUoAIr0LOKe...  \n",
      "3    344d6d77PQi8CCAqnlKKyEU8Ysb4st691sWToawvxfYn4m...  \n",
      "4    070161cchZ6pptbsHcVI15_4mR0zA_lrqcEgNROZgZhyMR...  \n",
      "..                                                 ...  \n",
      "973  2049f0ec14QxNxqvQxkiGUxJ6nxizTRMh4vIWAW6b5BtEo...  \n",
      "974  bf6b6c4feYZ5i_GEQL_IYtPJq5_6x448iIG2W_saNXcBXf...  \n",
      "975  a7a6d751Z_yeqKeP1agY7ctiGZvk5nHzEhlSfvTzjtNx3X...  \n",
      "976  e1ebd3aeuegfPCqZ_qF-TGtLNEWo8jBWI0TOnXnxYHryjI...  \n",
      "977  b81ec83c6DtGnZaBEmsGPctJA5r6njgCKSGq9vfF29u-BN...  \n",
      "\n",
      "[978 rows x 6 columns]\n"
     ]
    }
   ],
   "source": [
    "data = user_search.result\n",
    "df = pd.DataFrame(data['items']).reset_index(drop=True)\n",
    "\n",
    "\n",
    "print(df)"
   ]
  },
  {
   "cell_type": "code",
   "execution_count": 8,
   "metadata": {},
   "outputs": [],
   "source": []
  },
  {
   "cell_type": "code",
   "execution_count": null,
   "metadata": {},
   "outputs": [],
   "source": []
  },
  {
   "cell_type": "code",
   "execution_count": null,
   "metadata": {},
   "outputs": [],
   "source": []
  }
 ],
 "metadata": {
  "kernelspec": {
   "display_name": "Python 3",
   "language": "python",
   "name": "python3"
  },
  "language_info": {
   "codemirror_mode": {
    "name": "ipython",
    "version": 3
   },
   "file_extension": ".py",
   "mimetype": "text/x-python",
   "name": "python",
   "nbconvert_exporter": "python",
   "pygments_lexer": "ipython3",
   "version": "3.7.5"
  },
  "pycharm": {
   "stem_cell": {
    "cell_type": "raw",
    "metadata": {
     "collapsed": false
    },
    "source": []
   }
  }
 },
 "nbformat": 4,
 "nbformat_minor": 1
}
