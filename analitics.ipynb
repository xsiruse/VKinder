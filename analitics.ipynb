{
 "cells": [
  {
   "cell_type": "code",
   "execution_count": 22,
   "metadata": {
    "pycharm": {
     "is_executing": true
    }
   },
   "outputs": [],
   "source": [
    "from datetime import datetime, date\n",
    "from pprint import pprint\n",
    "from ipywidgets import interact, interactive, fixed, interact_manual\n",
    "from collections import Counter\n",
    "import getpass\n",
    "import time\n",
    "# import ipywidgets as widgets\n",
    "import operator\n",
    "import vk_api\n",
    "# import pandas as pd\n",
    "# import asyncio\n",
    "import json"
   ]
  },
  {
   "cell_type": "code",
   "execution_count": 2,
   "metadata": {},
   "outputs": [],
   "source": [
    "fields = ['about', 'activities', 'bdate', 'blacklisted', 'blacklisted_by_me', 'books', 'career', 'city', 'common_count',\n",
    "          'counters', 'country', 'education', 'followers_count', 'friend_status', 'games', 'home_town',\n",
    "          'interests', 'is_favorite', 'lists', 'movies', 'music', 'occupation', 'personal', 'photo_200_orig', 'quotes',\n",
    "          'relation', 'schools', 'sex', 'timezone', 'tv', 'universities']\n",
    "fi = ','.join(fields)\n",
    "\n",
    "TOKEN = '8adc8c028adc8c028adc8c02548ab1847688adc8adc8c02d7547fedba187a9a4a0bbbd9'\n"
   ]
  },
  {
   "cell_type": "code",
   "execution_count": 3,
   "metadata": {},
   "outputs": [
    {
     "name": "stdout",
     "output_type": "stream",
     "text": [
      "Введите номер телефона или логин: +79256889555\n",
      "Введите пароль: ········\n",
      "\n",
      "Возрастной диапазон\n",
      "Возраст от: 20\n",
      "Возраст до: 22\n"
     ]
    }
   ],
   "source": [
    "def auth():\n",
    "    login = input('Введите номер телефона или логин: ')\n",
    "    password = getpass.getpass('Введите пароль: ')\n",
    "    return login, password\n",
    "\n",
    "login, password = auth()\n",
    "   \n",
    "\n",
    "def set_age():\n",
    "    print('\\nВозрастной диапазон')\n",
    "    age_from = int(input('Возраст от: '))\n",
    "    age_to = int(input('Возраст до: '))\n",
    "    age = range(age_from, age_to + 1)\n",
    "    return age_from, age_to, age\n",
    "\n",
    "age_from, age_to, age = set_age()"
   ]
  },
  {
   "cell_type": "code",
   "execution_count": 4,
   "metadata": {},
   "outputs": [
    {
     "name": "stdout",
     "output_type": "stream",
     "text": [
      "<vk_api.vk_api.VkApi object at 0x000002B1A72C7248>\n"
     ]
    }
   ],
   "source": [
    "\n",
    "\n",
    "def vk(login, password):\n",
    "    vk_session = vk_api.VkApi(login, password)\n",
    "   \n",
    "    try:\n",
    "        vk_session.auth(token_only=True)\n",
    "        return vk_session\n",
    "\n",
    "    except vk_api.AuthError as error_msg:\n",
    "        print(error_msg)\n",
    "        return\n",
    "    \n",
    "session = vk(login, password)\n",
    "print(session)\n",
    "opse = session.get_api()\n"
   ]
  },
  {
   "cell_type": "code",
   "execution_count": 23,
   "metadata": {},
   "outputs": [],
   "source": [
    "class User:\n",
    "\n",
    "    def __init__(self, id):\n",
    "        interests = opse.users.get(user_ids=id, fields='%s' % fi)[0]\n",
    "        if 'bdate' in interests.keys():\n",
    "            bdate = datetime.strptime(interests['bdate'], '%d.%m.%Y')\n",
    "        else:\n",
    "            bdate = datetime.strptime(input('Введите дату рождения в формате дд.мм.гггг: '), '%d.%m.%Y')\n",
    "        self.gender = interests['sex']\n",
    "        self.relation = interests['relation']\n",
    "        self.groups = opse.groups.get()\n",
    "        self.friends = opse.friends.get()\n",
    "        self.interests = {}\n",
    "        self.country = interests['country']\n",
    "        self.city = interests['city']['id']\n",
    "        self.age = datetime.now().year - bdate.year - ((datetime.now().month, datetime.now().day) < (bdate.month, bdate.day))\n",
    "        self.sex = interests['sex']\n",
    "        print(self.city)\n",
    "        \n",
    "        \n",
    "    def search(self):\n",
    "        res = opse.users.search(v='5.103', city=self.city, age_from=age_from, age_to=age_to,\n",
    "                                    count=1000)\n",
    "        print(res[])\n",
    "        offset = 0\n",
    "        tries = 0\n",
    "        users_list = []\n",
    "        while offset < res['count']:\n",
    "            try:\n",
    "                \n",
    "                users = opse.users.search(v='5.103', city=self.city, sex=self.sex, age_from=age_from,\n",
    "                                              age_to=age_to,\n",
    "                                              count=10, offset=offset)\n",
    "                \n",
    "            except vk_api.exceptions.VkAPIError:\n",
    "                time.sleep(1)\n",
    "                continue\n",
    "                            \n",
    "            for user in users['items']:\n",
    "                tries += 1\n",
    "                if tries / 100 != 0:\n",
    "                    print('.', end='')\n",
    "                else:\n",
    "                    print(tries)\n",
    "                users_list.append(user['id'])\n",
    "            offset += 1000\n",
    "            print(offset)\n",
    "        self.users_list = users_list\n",
    "\n",
    "    def count_groups_match_points(self):\n",
    "        group_matches = {}\n",
    "        for id in self.users_list:\n",
    "            try:\n",
    "                groups = opse.groups.get(v='5.103', user_id=str(id))\n",
    "                print('...')\n",
    "                group_matches[id] = len(set(self.groups).intersection(set(groups['items'])))\n",
    "            except vk_api.exceptions.VkAPIError:\n",
    "                print('...')\n",
    "                time.sleep(1)\n",
    "                continue\n",
    "        group_matches = sorted(group_matches.items(), key=operator.itemgetter(1), reverse=True)\n",
    "        self.group_matches = dict(group_matches)\n",
    "\n",
    "    def count_interests_match_points(self):\n",
    "        interests_matches = {}\n",
    "        for id in self.users_list:\n",
    "            try:\n",
    "                user = opse.users.get(v='5.103', user_id=str(id), fields='interests, books, music')\n",
    "                print('...')\n",
    "                time.sleep(0.34)\n",
    "                try:\n",
    "                    interests = \\\n",
    "                        (user[0]['music'] + ' ' + user[0]['interests'] + ' ' + user[0]['books']) \\\n",
    "                            .replace(',', '').split(' ')\n",
    "                    interests_filter = [item for item in interests if item != '']\n",
    "                except KeyError:\n",
    "                    continue\n",
    "                except vk.exceptions.VkAPIError:\n",
    "                    time.sleep(1)\n",
    "                interests_matches[id] = len(set(self.filter_interests).intersection(set(interests_filter)))\n",
    "            except vk_api.exceptions.VkAPIError:\n",
    "                print('...')\n",
    "                time.sleep(1)\n",
    "                continue\n",
    "        interests_matches = sorted(interests_matches.items(), key=operator.itemgetter(1), reverse=True)\n",
    "        self.interests_matches = dict(interests_matches)\n",
    "\n",
    "    def count_total_match_points(self):\n",
    "        groups_and_interests_match = (self.interests_matches, self.group_matches)\n",
    "        total_match_points = Counter()\n",
    "        for item in groups_and_interests_match:\n",
    "            total_match_points.update(item)\n",
    "        total_match_points = dict(total_match_points)\n",
    "        total_match_points = sorted(total_match_points.items(), key=operator.itemgetter(1), reverse=True)\n",
    "        self.total_match_points = total_match_points\n",
    "\n",
    "    def get_top10users(self):\n",
    "        self.top_10_users = []\n",
    "        for user in self.total_match_points:\n",
    "            try:\n",
    "                for id in skip_ids.find_one()['ID']:\n",
    "                    if user[0] != id and len(self.top_10_users) != 10 and user[0] not in self.top_10_users:\n",
    "                        self.top_10_users.append(user[0])\n",
    "                        skip_ids.update_one({'ID': skip_ids.find_one()['ID']}, {'$push': {'ID': user[0]}})\n",
    "            except TypeError:\n",
    "                skip_ids.insert_one({'ID': [0]})\n",
    "                continue\n",
    "\n",
    "    def get_photos(self):\n",
    "        self.to_write = []\n",
    "        for id in self.top_10_users:\n",
    "            top_likes_list = []\n",
    "            photo = opse.photos.get(v='5.103', owner_id=id, album_id='profile', extended='likes')\n",
    "            time.sleep(0.34)\n",
    "            user = opse.users.get(v='5.103', user_ids=id)\n",
    "            print('...')\n",
    "            time.sleep(0.34)\n",
    "            top_3_photo = []\n",
    "            for i in photo['items']:\n",
    "                top_likes_list.append(i['likes']['count'])\n",
    "                top_likes_list.sort(reverse=True)\n",
    "            for i in photo['items']:\n",
    "                if i['likes']['count'] in top_likes_list[:3]:\n",
    "                    top_3_photo.append(i['sizes'][-1]['url'])\n",
    "            self.to_write.append({'id': id, 'first_name': user[0]['first_name'], 'last_name': user[0]['last_name'],\n",
    "                                  'url': top_3_photo})\n",
    "\n",
    "    def write_top10users(self):\n",
    "        with open('top10users.json', 'w', encoding='utf-8') as file:\n",
    "            json.dump(self.to_write, file, ensure_ascii=False, indent=2)"
   ]
  },
  {
   "cell_type": "code",
   "execution_count": 24,
   "metadata": {},
   "outputs": [
    {
     "name": "stdout",
     "output_type": "stream",
     "text": [
      "1\n"
     ]
    }
   ],
   "source": [
    "me = User(opse.users.get()[0]['id'])"
   ]
  },
  {
   "cell_type": "code",
   "execution_count": 25,
   "metadata": {
    "pycharm": {
     "is_executing": false
    }
   },
   "outputs": [
    {
     "name": "stdout",
     "output_type": "stream",
     "text": [
      "...{'count': 0, 'items': []}\n"
     ]
    }
   ],
   "source": [
    "me.search()"
   ]
  },
  {
   "cell_type": "code",
   "execution_count": 26,
   "metadata": {},
   "outputs": [],
   "source": [
    "me.count_groups_match_points()"
   ]
  },
  {
   "cell_type": "code",
   "execution_count": 17,
   "metadata": {},
   "outputs": [],
   "source": [
    "me.count_interests_match_points()"
   ]
  },
  {
   "cell_type": "code",
   "execution_count": 18,
   "metadata": {},
   "outputs": [],
   "source": [
    "me.count_total_match_points()"
   ]
  },
  {
   "cell_type": "code",
   "execution_count": 19,
   "metadata": {},
   "outputs": [],
   "source": [
    "me.get_top10users()"
   ]
  },
  {
   "cell_type": "code",
   "execution_count": 20,
   "metadata": {},
   "outputs": [],
   "source": [
    "me.get_photos()"
   ]
  },
  {
   "cell_type": "code",
   "execution_count": 21,
   "metadata": {},
   "outputs": [],
   "source": [
    "me.write_top10users()"
   ]
  },
  {
   "cell_type": "code",
   "execution_count": null,
   "metadata": {},
   "outputs": [],
   "source": []
  }
 ],
 "metadata": {
  "kernelspec": {
   "display_name": "Python 3",
   "language": "python",
   "name": "python3"
  },
  "language_info": {
   "codemirror_mode": {
    "name": "ipython",
    "version": 3
   },
   "file_extension": ".py",
   "mimetype": "text/x-python",
   "name": "python",
   "nbconvert_exporter": "python",
   "pygments_lexer": "ipython3",
   "version": "3.7.5"
  },
  "pycharm": {
   "stem_cell": {
    "cell_type": "raw",
    "metadata": {
     "collapsed": false
    },
    "source": []
   }
  }
 },
 "nbformat": 4,
 "nbformat_minor": 1
}
